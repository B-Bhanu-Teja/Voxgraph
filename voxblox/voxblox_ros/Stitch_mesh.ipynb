{
 "cells": [
  {
   "cell_type": "code",
   "execution_count": 6,
   "metadata": {},
   "outputs": [],
   "source": [
    "import open3d as o3d\n",
    "crd = o3d.geometry.TriangleMesh.create_coordinate_frame()\n",
    "\n",
    "# Load .ply file\n",
    "mesh1 = o3d.io.read_triangle_mesh(\"/home/drone/Documents/mav_active_3d_planning/src/voxblox/voxblox_ros/mesh_results/outdoor7.ply\")\n",
    "# mesh1.rotate(mesh1.get_rotation_matrix_from_xyz([0.008, 0.041, 0.011]), center=(0,0,0))\n",
    "# mesh1.translate([0.030, -0.026, 0.001], relative=False)\n",
    "\n",
    "mesh2 = o3d.io.read_triangle_mesh(\"/home/drone/Documents/mav_active_3d_planning/src/voxblox/voxblox_ros/mesh_results/outdoor2_1.ply\")\n",
    "mesh2.rotate(mesh2.get_rotation_matrix_from_xyz([-0.001, 0.024, -1.753]), center=(0,0,0))\n",
    "mesh2.translate([-83.810, 101.946, -1.000], relative=True)\n",
    "\n",
    "\n",
    "mesh3 = o3d.io.read_triangle_mesh(\"/home/drone/Documents/mav_active_3d_planning/src/voxblox/voxblox_ros/mesh_results/bag3_upto150.ply\")\n",
    "mesh3.rotate(mesh3.get_rotation_matrix_from_xyz([0.003, 0.032, 2.997]), center=(0,0,0))\n",
    "mesh3.translate([-0.274, 3.114, 0.144], relative=True)\n",
    "\n",
    "mesh4 = o3d.io.read_triangle_mesh(\"/home/drone/Documents/mav_active_3d_planning/src/voxblox/voxblox_ros/mesh_results/bag3_after150.ply\")\n",
    "mesh4.rotate(mesh4.get_rotation_matrix_from_xyz([-0.001, 0.027, 3.026]), center=(0,0,0))\n",
    "mesh4.translate([73.081, 81.136, -3.052], relative=True)\n",
    "\n",
    "\n",
    "mesh5 = o3d.io.read_triangle_mesh(\"/home/drone/Documents/mav_active_3d_planning/src/voxblox/voxblox_ros/mesh_results/bag4.ply\")\n",
    "mesh5.rotate(mesh5.get_rotation_matrix_from_xyz([0.005, 0.031, 3.073]), center=(0,0,0))\n",
    "mesh5.translate([66.831, -67.786, -0.802], relative=True)\n",
    "\n",
    "\n",
    "mesh6 = o3d.io.read_triangle_mesh(\"/home/drone/Documents/mav_active_3d_planning/src/voxblox/voxblox_ros/mesh_results/bag5.ply\")\n",
    "mesh6.rotate(mesh6.get_rotation_matrix_from_xyz([0.022, 0.015, -0.250]), center=(0,0,0))\n",
    "mesh6.translate([-6.778, -67.685, -1.836], relative=True)\n",
    "\n",
    "\n",
    "# Visualize mesh\n",
    "o3d.visualization.draw_geometries([crd, mesh1, mesh2, mesh3, mesh4, mesh5, mesh6])"
   ]
  },
  {
   "cell_type": "code",
   "execution_count": 52,
   "metadata": {},
   "outputs": [],
   "source": [
    "import open3d as o3d\n",
    "crd = o3d.geometry.TriangleMesh.create_coordinate_frame()\n",
    "\n",
    "# Load .ply file\n",
    "mesh = o3d.io.read_triangle_mesh(\"/home/drone/Documents/mav_active_3d_planning/src/voxblox/voxblox_ros/mesh_results/bag5.ply\")\n",
    "\n",
    "# Visualize mesh\n",
    "o3d.visualization.draw_geometries([mesh])"
   ]
  },
  {
   "cell_type": "code",
   "execution_count": null,
   "metadata": {},
   "outputs": [],
   "source": [
    "mesh4.rotate(mesh4.get_rotation_matrix_from_xyz([-0.012, 0.037, -3.041]), center=(0,0,0))\n",
    "mesh4.translate([72.900, 85.167, -5.978], relative=True)\n",
    "\n",
    "mesh4.rotate(mesh4.get_rotation_matrix_from_xyz([-0.001, 0.027, 3.026]), center=(0,0,0))\n",
    "mesh4.translate([73.081, 81.136, -1.052], relative=True)"
   ]
  },
  {
   "cell_type": "code",
   "execution_count": 8,
   "metadata": {},
   "outputs": [],
   "source": [
    "crd = o3d.geometry.TriangleMesh.create_coordinate_frame()\n",
    "\n",
    "mesh1 = o3d.io.read_triangle_mesh(\"/home/drone/Documents/mav_active_3d_planning/src/voxblox/voxblox_ros/mesh_results/bag6_upto150.ply\")\n",
    "\n",
    "mesh2 = o3d.io.read_triangle_mesh(\"/home/drone/Documents/mav_active_3d_planning/src/voxblox/voxblox_ros/mesh_results/bag6_150to300.ply\")\n",
    "mesh2.rotate(mesh2.get_rotation_matrix_from_xyz([0.001, 0.030, -1.583]), center=(0,0,0))\n",
    "mesh2.translate([22.073, 97.914, -0.714], relative=True)\n",
    "\n",
    "\n",
    "mesh3 = o3d.io.read_triangle_mesh(\"/home/drone/Documents/mav_active_3d_planning/src/voxblox/voxblox_ros/mesh_results/bag6_after300.ply\")\n",
    "mesh3.rotate(mesh3.get_rotation_matrix_from_xyz([0.004, 0.028, 3.013]), center=(0,0,0))\n",
    "mesh3.translate([70.662, -1.835, -0.991], relative=True)\n",
    "\n",
    "\n",
    "o3d.visualization.draw_geometries([crd, mesh1, mesh2, mesh3])"
   ]
  },
  {
   "cell_type": "code",
   "execution_count": null,
   "metadata": {},
   "outputs": [],
   "source": []
  }
 ],
 "metadata": {
  "kernelspec": {
   "display_name": "Python 3",
   "language": "python",
   "name": "python3"
  },
  "language_info": {
   "codemirror_mode": {
    "name": "ipython",
    "version": 3
   },
   "file_extension": ".py",
   "mimetype": "text/x-python",
   "name": "python",
   "nbconvert_exporter": "python",
   "pygments_lexer": "ipython3",
   "version": "3.8.10"
  },
  "orig_nbformat": 4
 },
 "nbformat": 4,
 "nbformat_minor": 2
}
